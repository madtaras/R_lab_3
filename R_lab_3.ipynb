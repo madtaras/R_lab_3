{
 "cells": [
  {
   "cell_type": "markdown",
   "metadata": {},
   "source": [
    "# Task 1"
   ]
  },
  {
   "cell_type": "markdown",
   "metadata": {},
   "source": [
    "## Subtask 1"
   ]
  },
  {
   "cell_type": "code",
   "execution_count": 37,
   "metadata": {},
   "outputs": [
    {
     "name": "stdout",
     "output_type": "stream",
     "text": [
      "0.01: 0.987\n",
      "length of confidence interval: 3.419115\n",
      "0.05: 0.955\n",
      "length of confidence interval: 2.580777\n",
      "0.1: 0.91\n",
      "length of confidence interval: 2.15876\n"
     ]
    }
   ],
   "source": [
    "set.seed(021)\n",
    "theta <- 2.1\n",
    "lambda <- 1 / theta\n",
    "M <- 1000\n",
    "N <- 10\n",
    "mu <- 5\n",
    "x <- matrix(rexp(N*M, lambda), nrow = N)\n",
    "\n",
    "sample_mean <- colMeans(x)\n",
    "\n",
    "\n",
    "for (alpha in c(.01, .05, .1)) {\n",
    "    low <- qchisq(alpha/2, df=2*N)\n",
    "    high <- qchisq(1 - alpha/2, df=2*N)\n",
    "    ci <- c(low/(2*lambda*N), high/(2*lambda*N))\n",
    "    \n",
    "    count <- 0\n",
    "    for (sm in sample_mean) {\n",
    "        if (sm > ci[1] && sm < ci[2]) {\n",
    "            count <- count + 1\n",
    "        }\n",
    "    }\n",
    "    \n",
    "    cat(alpha, \": \", count / M, \"\\n\", sep = \"\")\n",
    "    cat(\"length of confidence interval: \", (ci[2] - ci[1]), \"\\n\", sep = \"\")\n",
    "}"
   ]
  },
  {
   "cell_type": "markdown",
   "metadata": {},
   "source": [
    "## Subtask 2"
   ]
  },
  {
   "cell_type": "code",
   "execution_count": 38,
   "metadata": {},
   "outputs": [
    {
     "name": "stdout",
     "output_type": "stream",
     "text": [
      "0.01: 0.986\n",
      "length of confidence interval: 3.421105\n",
      "0.05: 0.954\n",
      "length of confidence interval: 2.603139\n",
      "0.1: 0.918\n",
      "length of confidence interval: 2.184623\n"
     ]
    }
   ],
   "source": [
    "set.seed(021)\n",
    "theta <- 2.1\n",
    "lambda <- 1 / theta\n",
    "M <- 1000\n",
    "N <- 10\n",
    "x <- matrix(rexp(N*M, lambda), nrow = N)\n",
    "\n",
    "sample_mean <- colMeans(x)\n",
    "\n",
    "sample_sd <- apply(x, 2, sd)\n",
    "\n",
    "for (alpha in c(.01, .05, .1)) {\n",
    "    cat(alpha, \": \", sum(abs(sample_mean - theta) < qnorm(1 - alpha/2)*theta/sqrt(N))/M, \"\\n\", sep = \"\")\n",
    "    cat(\"length of confidence interval: \", 2 * qnorm(1 - alpha/2)*theta/sqrt(N), \"\\n\", sep = \"\")\n",
    "}"
   ]
  },
  {
   "cell_type": "markdown",
   "metadata": {},
   "source": [
    "## Subtask 3"
   ]
  },
  {
   "cell_type": "code",
   "execution_count": 39,
   "metadata": {},
   "outputs": [
    {
     "name": "stdout",
     "output_type": "stream",
     "text": [
      "0.01: 0.961\n",
      "length of confidence interval: 3.14049\n",
      "0.05: 0.906\n",
      "length of confidence interval: 2.389617\n",
      "0.1: 0.858\n",
      "length of confidence interval: 2.00543\n"
     ]
    }
   ],
   "source": [
    "set.seed(021)\n",
    "theta <- 2.1\n",
    "lambda <- 1 / theta\n",
    "M <- 1000\n",
    "N <- 10\n",
    "mu <- 5\n",
    "x <- matrix(rexp(N*M, lambda), nrow = N)\n",
    "\n",
    "sample_mean <- colMeans(x)\n",
    "\n",
    "sample_sd <- apply(x, 2, sd)\n",
    "\n",
    "for (alpha in c(.01, .05, .1)) {\n",
    "    cat(alpha, \": \", sum(abs(sample_mean - theta) < qt(1 - alpha/2, N-1)*sample_sd/sqrt(N))/M, \"\\n\", sep = \"\")\n",
    "    cat(\"length of confidence interval: \", 2 * qnorm(1 - alpha/2)*mean(sample_sd)/sqrt(N), \"\\n\", sep = \"\")\n",
    "}"
   ]
  },
  {
   "cell_type": "markdown",
   "metadata": {},
   "source": [
    "---\n",
    "Verified that the confidence intervals of level 1 − α constructed via 1.–3. above contain the parameter θ approx.\n",
    "100α% of times\n",
    "\n",
    "The second method is the best one because it gets the most of data when different alpha values passed."
   ]
  },
  {
   "cell_type": "markdown",
   "metadata": {},
   "source": [
    "# Task 2"
   ]
  },
  {
   "cell_type": "markdown",
   "metadata": {},
   "source": [
    "## Subtask 1"
   ]
  },
  {
   "cell_type": "code",
   "execution_count": 42,
   "metadata": {},
   "outputs": [
    {
     "name": "stdout",
     "output_type": "stream",
     "text": [
      "0.01: 0.987\n",
      "length of confidence interval: 2.360787\n",
      "0.05: 0.921\n",
      "length of confidence interval: 1.796337\n",
      "0.1: 0.878\n",
      "length of confidence interval: 1.507533\n"
     ]
    }
   ],
   "source": [
    "set.seed(021)\n",
    "theta <- 2.1\n",
    "lambda <- 1 / theta\n",
    "M <- 1000\n",
    "N <- 10\n",
    "x <- matrix(rpois(N*M, theta), nrow = N)\n",
    "\n",
    "sample_mean <- colMeans(x)\n",
    "\n",
    "sample_sd <- apply(x, 2, sd)\n",
    "\n",
    "for (alpha in c(.01, .05, .1)) {\n",
    "    cat(alpha, \": \", sum(abs(sample_mean - theta) < qnorm(1 - alpha/2)*sqrt(theta)/sqrt(N))/M, \"\\n\", sep = \"\")\n",
    "    cat(\"length of confidence interval: \", 2 * qnorm(1 - alpha/2)*sqrt(theta)/sqrt(N), \"\\n\", sep = \"\")\n",
    "}"
   ]
  },
  {
   "cell_type": "markdown",
   "metadata": {},
   "source": [
    "## Subtask 2"
   ]
  },
  {
   "cell_type": "code",
   "execution_count": 43,
   "metadata": {},
   "outputs": [
    {
     "name": "stdout",
     "output_type": "stream",
     "text": [
      "0.01: 0.98\n",
      "length of confidence interval: 2.280189\n",
      "0.05: 0.923\n",
      "length of confidence interval: 1.73501\n",
      "0.1: 0.879\n",
      "length of confidence interval: 1.456066\n"
     ]
    }
   ],
   "source": [
    "set.seed(021)\n",
    "theta <- 2.1\n",
    "lambda <- 1 / theta\n",
    "M <- 1000\n",
    "N <- 10\n",
    "mu <- 5\n",
    "x <- matrix(rpois(N*M, theta), nrow = N)\n",
    "\n",
    "sample_mean <- colMeans(x)\n",
    "\n",
    "sample_sd <- apply(x, 2, sd)\n",
    "\n",
    "for (alpha in c(.01, .05, .1)) {\n",
    "    cat(alpha, \": \", sum(abs(sample_mean - theta) < qt(1 - alpha/2, N-1)*sample_sd/sqrt(N))/M, \"\\n\", sep = \"\")\n",
    "    cat(\"length of confidence interval: \", 2 * qnorm(1 - alpha/2)*mean(sample_sd)/sqrt(N), \"\\n\", sep = \"\")\n",
    "}"
   ]
  },
  {
   "cell_type": "code",
   "execution_count": null,
   "metadata": {},
   "outputs": [],
   "source": []
  }
 ],
 "metadata": {
  "kernelspec": {
   "display_name": "R",
   "language": "R",
   "name": "ir"
  },
  "language_info": {
   "codemirror_mode": "r",
   "file_extension": ".r",
   "mimetype": "text/x-r-source",
   "name": "R",
   "pygments_lexer": "r",
   "version": "3.4.1"
  }
 },
 "nbformat": 4,
 "nbformat_minor": 2
}
